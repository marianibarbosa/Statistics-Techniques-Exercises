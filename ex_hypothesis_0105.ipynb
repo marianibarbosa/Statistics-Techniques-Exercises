{
 "cells": [
  {
   "cell_type": "code",
   "execution_count": 2,
   "id": "345a01a1-ae5f-47b1-9782-bbea2f1f6529",
   "metadata": {},
   "outputs": [],
   "source": [
    "from scipy import stats"
   ]
  },
  {
   "cell_type": "code",
   "execution_count": 4,
   "id": "0d5113fb-e49f-4f2e-82c2-f820b43963ed",
   "metadata": {},
   "outputs": [],
   "source": [
    "t_test = stats.ttest_ind_from_stats(mean1 = 0.9, std1 = 0.193, \n",
    "                                    nobs1 = 9, mean2 = 1.18, std2 = 0.245,\n",
    "                                   nobs2 = 8, equal_var = False)"
   ]
  },
  {
   "cell_type": "code",
   "execution_count": 6,
   "id": "b8975921-947c-4e4c-93d3-959189f4352d",
   "metadata": {},
   "outputs": [
    {
     "data": {
      "text/plain": [
       "Ttest_indResult(statistic=-2.5950518957125714, pvalue=0.021875897359240646)"
      ]
     },
     "execution_count": 6,
     "metadata": {},
     "output_type": "execute_result"
    }
   ],
   "source": [
    "t_test"
   ]
  },
  {
   "cell_type": "code",
   "execution_count": 8,
   "id": "d05e0948-58bc-4e4d-a09b-7eeb1e19511c",
   "metadata": {},
   "outputs": [],
   "source": [
    "import pandas as pd\n",
    "import numpy as np\n",
    "from scipy.stats import ttest_ind"
   ]
  },
  {
   "cell_type": "code",
   "execution_count": 10,
   "id": "fa4c8369-5e1d-4593-b8ef-4bd17048734a",
   "metadata": {},
   "outputs": [
    {
     "data": {
      "text/html": [
       "<div>\n",
       "<style scoped>\n",
       "    .dataframe tbody tr th:only-of-type {\n",
       "        vertical-align: middle;\n",
       "    }\n",
       "\n",
       "    .dataframe tbody tr th {\n",
       "        vertical-align: top;\n",
       "    }\n",
       "\n",
       "    .dataframe thead th {\n",
       "        text-align: right;\n",
       "    }\n",
       "</style>\n",
       "<table border=\"1\" class=\"dataframe\">\n",
       "  <thead>\n",
       "    <tr style=\"text-align: right;\">\n",
       "      <th></th>\n",
       "      <th>Traveler_type</th>\n",
       "      <th>Hotel_stars_given</th>\n",
       "    </tr>\n",
       "  </thead>\n",
       "  <tbody>\n",
       "    <tr>\n",
       "      <th>0</th>\n",
       "      <td>Families</td>\n",
       "      <td>3</td>\n",
       "    </tr>\n",
       "    <tr>\n",
       "      <th>1</th>\n",
       "      <td>Business</td>\n",
       "      <td>3</td>\n",
       "    </tr>\n",
       "    <tr>\n",
       "      <th>2</th>\n",
       "      <td>Families</td>\n",
       "      <td>3</td>\n",
       "    </tr>\n",
       "    <tr>\n",
       "      <th>3</th>\n",
       "      <td>Families</td>\n",
       "      <td>3</td>\n",
       "    </tr>\n",
       "    <tr>\n",
       "      <th>4</th>\n",
       "      <td>Business</td>\n",
       "      <td>3</td>\n",
       "    </tr>\n",
       "    <tr>\n",
       "      <th>...</th>\n",
       "      <td>...</td>\n",
       "      <td>...</td>\n",
       "    </tr>\n",
       "    <tr>\n",
       "      <th>499</th>\n",
       "      <td>Families</td>\n",
       "      <td>4</td>\n",
       "    </tr>\n",
       "    <tr>\n",
       "      <th>500</th>\n",
       "      <td>Families</td>\n",
       "      <td>4</td>\n",
       "    </tr>\n",
       "    <tr>\n",
       "      <th>501</th>\n",
       "      <td>Families</td>\n",
       "      <td>4</td>\n",
       "    </tr>\n",
       "    <tr>\n",
       "      <th>502</th>\n",
       "      <td>Families</td>\n",
       "      <td>4</td>\n",
       "    </tr>\n",
       "    <tr>\n",
       "      <th>503</th>\n",
       "      <td>Families</td>\n",
       "      <td>4</td>\n",
       "    </tr>\n",
       "  </tbody>\n",
       "</table>\n",
       "<p>504 rows × 2 columns</p>\n",
       "</div>"
      ],
      "text/plain": [
       "    Traveler_type  Hotel_stars_given\n",
       "0        Families                  3\n",
       "1        Business                  3\n",
       "2        Families                  3\n",
       "3        Families                  3\n",
       "4        Business                  3\n",
       "..            ...                ...\n",
       "499      Families                  4\n",
       "500      Families                  4\n",
       "501      Families                  4\n",
       "502      Families                  4\n",
       "503      Families                  4\n",
       "\n",
       "[504 rows x 2 columns]"
      ]
     },
     "execution_count": 10,
     "metadata": {},
     "output_type": "execute_result"
    }
   ],
   "source": [
    "dataset = pd.read_csv(\"trip_advisor_stars.csv\")\n",
    "\n",
    "dataset"
   ]
  },
  {
   "cell_type": "markdown",
   "id": "97d30c17-a3a7-47ed-8856-863d3fa687ad",
   "metadata": {},
   "source": [
    "#### Null hypothesis\n",
    "\n",
    "Significant difference between the average of rates given by businesses and families"
   ]
  },
  {
   "cell_type": "markdown",
   "id": "98df4d71-0b35-4b6c-b5ed-307962ab01c0",
   "metadata": {},
   "source": [
    "#### Alternative hypothesis\n",
    "\n",
    "Significant difference between the mean of rates given by businesses and families"
   ]
  },
  {
   "cell_type": "code",
   "execution_count": 45,
   "id": "4eba7afb-35cd-4718-9c61-2c5eaab4f04b",
   "metadata": {},
   "outputs": [
    {
     "data": {
      "text/plain": [
       "Traveler_type\n",
       "Families    406\n",
       "Business     98\n",
       "Name: count, dtype: int64"
      ]
     },
     "execution_count": 45,
     "metadata": {},
     "output_type": "execute_result"
    }
   ],
   "source": [
    "dataset[\"Traveler_type\"].value_counts()"
   ]
  },
  {
   "cell_type": "code",
   "execution_count": 47,
   "id": "0bb3d6d2-5ce5-4441-912b-093b781e76c9",
   "metadata": {},
   "outputs": [],
   "source": [
    "average = dataset.groupby(\"Traveler_type\")[\"Hotel_stars_given\"].mean()"
   ]
  },
  {
   "cell_type": "code",
   "execution_count": 49,
   "id": "adf29a2f-b3ea-4f4a-b87a-1cf362300988",
   "metadata": {},
   "outputs": [
    {
     "data": {
      "text/plain": [
       "Traveler_type\n",
       "Business    4.051020\n",
       "Families    4.046798\n",
       "Name: Hotel_stars_given, dtype: float64"
      ]
     },
     "execution_count": 49,
     "metadata": {},
     "output_type": "execute_result"
    }
   ],
   "source": [
    "average"
   ]
  },
  {
   "cell_type": "code",
   "execution_count": null,
   "id": "9193c1c6-968c-4fa4-b5eb-7ce91b4f66f4",
   "metadata": {},
   "outputs": [],
   "source": []
  },
  {
   "cell_type": "code",
   "execution_count": 57,
   "id": "e81f13b0-1124-49fb-bf56-b5816f41f487",
   "metadata": {},
   "outputs": [],
   "source": [
    "# Here we need to split the data into x1 and x2\n",
    "\n",
    "X1= dataset[dataset['Traveler_type']=='Business']['Hotel_stars_given']\n",
    "X2= dataset[dataset['Traveler_type']=='Families']['Hotel_stars_given']"
   ]
  },
  {
   "cell_type": "code",
   "execution_count": 59,
   "id": "cc9c9d12-2185-4737-a3d7-f25f656abb01",
   "metadata": {},
   "outputs": [],
   "source": [
    "t_testt = ttest_ind(X1, X2, equal_var = False)"
   ]
  },
  {
   "cell_type": "code",
   "execution_count": 61,
   "id": "c1ca328e-af5c-4de7-8596-512545019943",
   "metadata": {},
   "outputs": [
    {
     "data": {
      "text/plain": [
       "TtestResult(statistic=0.04451747410407884, pvalue=0.9645519335242811, df=147.99446168060567)"
      ]
     },
     "execution_count": 61,
     "metadata": {},
     "output_type": "execute_result"
    }
   ],
   "source": [
    "t_testt"
   ]
  },
  {
   "cell_type": "code",
   "execution_count": null,
   "id": "61f07f55-76e7-4069-8d9c-5d043735d76b",
   "metadata": {},
   "outputs": [],
   "source": []
  }
 ],
 "metadata": {
  "kernelspec": {
   "display_name": "Python [conda env:base] *",
   "language": "python",
   "name": "conda-base-py"
  },
  "language_info": {
   "codemirror_mode": {
    "name": "ipython",
    "version": 3
   },
   "file_extension": ".py",
   "mimetype": "text/x-python",
   "name": "python",
   "nbconvert_exporter": "python",
   "pygments_lexer": "ipython3",
   "version": "3.12.7"
  }
 },
 "nbformat": 4,
 "nbformat_minor": 5
}
